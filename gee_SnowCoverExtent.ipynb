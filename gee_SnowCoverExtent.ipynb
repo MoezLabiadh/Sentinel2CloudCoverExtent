{
 "cells": [
  {
   "cell_type": "code",
   "execution_count": 1,
   "metadata": {},
   "outputs": [],
   "source": [
    "# import Earth Engine packages\n",
    "import ee\n",
    "import geemap\n",
    "import numpy as np"
   ]
  },
  {
   "cell_type": "code",
   "execution_count": 2,
   "metadata": {},
   "outputs": [
    {
     "name": "stdout",
     "output_type": "stream",
     "text": [
      "The Earth Engine package initialized successfully!\n"
     ]
    }
   ],
   "source": [
    "# initialize EE\n",
    "try:\n",
    "  ee.Initialize()\n",
    "  print('The Earth Engine package initialized successfully!')\n",
    "except ee.EEException as e:\n",
    "  print('The Earth Engine package failed to initialize! Try to Authenticate EE')\n",
    "except:\n",
    "    print(\"Unexpected error:\", sys.exc_info()[0])\n",
    "    raise"
   ]
  },
  {
   "cell_type": "code",
   "execution_count": 3,
   "metadata": {
    "scrolled": false
   },
   "outputs": [
    {
     "name": "stdout",
     "output_type": "stream",
     "text": [
      "Please select an Area of Interest using the Drawing tools\n"
     ]
    },
    {
     "data": {
      "application/vnd.jupyter.widget-view+json": {
       "model_id": "20bc0cd4d49d4723bf035bab4301084f",
       "version_major": 2,
       "version_minor": 0
      },
      "text/plain": [
       "Map(center=[50, -115], controls=(ZoomControl(options=['position', 'zoom_in_text', 'zoom_in_title', 'zoom_out_t…"
      ]
     },
     "metadata": {},
     "output_type": "display_data"
    }
   ],
   "source": [
    "print (\"Please select an Area of Interest using the Drawing tools\")\n",
    "Map = geemap.Map(center=[50, -115], zoom=6)\n",
    "Map"
   ]
  },
  {
   "cell_type": "code",
   "execution_count": 4,
   "metadata": {
    "scrolled": true
   },
   "outputs": [
    {
     "name": "stdout",
     "output_type": "stream",
     "text": [
      "[-117.29114900000047, 49.49916177329421]\n",
      "[[[-117.37191, 49.4517], [-117.210388, 49.4517], [-117.210388, 49.546598], [-117.37191, 49.546598], [-117.37191, 49.4517]]]\n"
     ]
    }
   ],
   "source": [
    "#Define the Area of interest\n",
    "AOI = ee.FeatureCollection(Map.draw_features)\n",
    "AOI_geometry = ee.Geometry.Polygon (AOI.geometry().getInfo()['coordinates'])\n",
    "Centroid_Coord = AOI_geometry.centroid().getInfo()['coordinates']\n",
    "print (Centroid_Coord)\n",
    "print (AOI_geometry.getInfo()['coordinates'])"
   ]
  },
  {
   "cell_type": "code",
   "execution_count": 5,
   "metadata": {},
   "outputs": [],
   "source": [
    "#Define dates\n",
    "date_start = '2020-04-15'\n",
    "date_end= '2020-05-14'"
   ]
  },
  {
   "cell_type": "code",
   "execution_count": 6,
   "metadata": {},
   "outputs": [],
   "source": [
    "#Define a Cloud Threshold\n",
    "cloud_threshold = 30"
   ]
  },
  {
   "cell_type": "code",
   "execution_count": 7,
   "metadata": {},
   "outputs": [
    {
     "name": "stdout",
     "output_type": "stream",
     "text": [
      "NDSI band created!\n"
     ]
    }
   ],
   "source": [
    "#Setup a function to caclulate the NDSI\n",
    "def CalculateNDSI(image):\n",
    "    NDSI = image.normalizedDifference(['B3', 'B11'])\\\n",
    "                .rename('NDSI')\n",
    "    return image.addBands(NDSI)\n",
    "print (\"NDSI band created!\")"
   ]
  },
  {
   "cell_type": "code",
   "execution_count": 8,
   "metadata": {},
   "outputs": [
    {
     "name": "stdout",
     "output_type": "stream",
     "text": [
      "Cloud Mask band created!\n"
     ]
    }
   ],
   "source": [
    "#Setup a function to caclulate the Cloud and Cloud Shadow Mask\n",
    "def CloudMask (image):\n",
    "    cloud_mask = image.expression(\n",
    "      \"((b('MSK_CLDPRB') >= 90)) || ((b('SCL') == 3)) ? 2 \" +\n",
    "       \": ((b('MSK_CLDPRB') >= 50) && (b('B8A') >= 3000)) || ((b('MSK_CLDPRB') >= 20) && (b('B8A') >= 9000))  ? 1\" +\n",
    "         \": 0\").rename('CloudMask')\n",
    "    return image.addBands(cloud_mask)\n",
    "print (\"Cloud Mask band created!\")"
   ]
  },
  {
   "cell_type": "code",
   "execution_count": 9,
   "metadata": {},
   "outputs": [
    {
     "name": "stdout",
     "output_type": "stream",
     "text": [
      "The Sentinel-2 query returned 2 images\n"
     ]
    }
   ],
   "source": [
    "#Add Sentinel-2 Collection and filter using AOI, dates, cloud threshold. Select the latest image.\n",
    "S2 = ee.ImageCollection(\"COPERNICUS/S2_SR\")\\\n",
    "      .filterDate(date_start, date_end)\\\n",
    "      .filter(ee.Filter.lt('CLOUDY_PIXEL_PERCENTAGE', cloud_threshold))\\\n",
    "      .filterBounds(AOI)\\\n",
    "      .map(CloudMask)\\\n",
    "      .map(CalculateNDSI)\n",
    "\n",
    "#Check how many images are returned by the Query\n",
    "count_images = S2.size().getInfo()\n",
    "print(\"The Sentinel-2 query returned\", count_images, \"images\")"
   ]
  },
  {
   "cell_type": "code",
   "execution_count": 10,
   "metadata": {},
   "outputs": [
    {
     "name": "stdout",
     "output_type": "stream",
     "text": [
      "A mosaic of most recent images is created!\n"
     ]
    }
   ],
   "source": [
    "#Mosaic the retunred images if the area of interest is covering multiple acquisitons\n",
    "if count_images == 1:\n",
    "    image = S2.first()\n",
    "    image_date = image.date().format('YYYY-MM-dd').getInfo()\n",
    "    image_bands = image.bandNames().getInfo()\n",
    "    print (\"The image was acquired on\", image_date, \"and has the following bands:\",image_bands)\n",
    "    \n",
    "elif count_images > 1:\n",
    "    count_images = S2.size().getInfo()\n",
    "    image = S2.mosaic()\n",
    "    print (\"A mosaic of most recent images is created!\")\n",
    "\n",
    "else:\n",
    "    print (\"No images returned! Modify the acquisition dates or lower the cloud threshold!\")"
   ]
  },
  {
   "cell_type": "code",
   "execution_count": 11,
   "metadata": {
    "scrolled": true
   },
   "outputs": [
    {
     "name": "stdout",
     "output_type": "stream",
     "text": [
      "SCE layer created!\n"
     ]
    }
   ],
   "source": [
    "#Create the Snow Cover Extent (SCE) layer\n",
    "SCE = image.expression(\n",
    "      \"((b('CloudMask') == 0 && (b('NDSI') >= 0.3) && (b('B4') >= 1000))) ? 2\" +\n",
    "       \": (b('CloudMask') > 0) ? 1\" +\n",
    "        \": 0\")\\\n",
    "    .clip(AOI)\n",
    "\n",
    "SCE_masked = SCE.updateMask(SCE.gt(0))\n",
    "print (\"SCE layer created!\")"
   ]
  },
  {
   "cell_type": "code",
   "execution_count": 15,
   "metadata": {},
   "outputs": [
    {
     "name": "stdout",
     "output_type": "stream",
     "text": [
      "Band Composite image (SWIR2,SWIR1,Green) created!\n"
     ]
    }
   ],
   "source": [
    "#Create a Band Composite image (SWIR2,SWIR1,Green)\n",
    "BandComposite = image.select('B4', 'B3', 'B2')\\\n",
    "                  .clip(AOI)\n",
    "print (\"Band Composite image (SWIR2,SWIR1,Green) created!\")"
   ]
  },
  {
   "cell_type": "code",
   "execution_count": 16,
   "metadata": {},
   "outputs": [],
   "source": [
    "#Set the visualisation parameters.\n",
    "SCEViz = {\n",
    "  \"min\": 0,\n",
    "  \"max\": 2,\n",
    "  \"palette\": ['yellow', 'red','blue'],\n",
    "}\n",
    "\n",
    "BandCompViz = {\n",
    "  \"min\": 0,\n",
    "  \"max\": 1500,\n",
    "  \"gamma\": [0.95, 1.1, 1]\n",
    "}"
   ]
  },
  {
   "cell_type": "code",
   "execution_count": 17,
   "metadata": {},
   "outputs": [
    {
     "data": {
      "application/vnd.jupyter.widget-view+json": {
       "model_id": "ea13a988dc4448b785053711c4fde362",
       "version_major": 2,
       "version_minor": 0
      },
      "text/plain": [
       "Map(center=[49.49916177329421, -117.29114900000047], controls=(ZoomControl(options=['position', 'zoom_in_text'…"
      ]
     },
     "metadata": {},
     "output_type": "display_data"
    }
   ],
   "source": [
    "#Setup a split Screen Map and visualize results.\n",
    "right_layer = geemap.ee_tile_layer(SCE_masked, SCEViz, 'Snow Cover Extent')\n",
    "left_layer = geemap.ee_tile_layer(BandComposite, BandCompViz, 'Sentinel-2 SWIR composite')\n",
    "Map2 = geemap.Map(center= Centroid_Coord[::-1], zoom=10) \n",
    "Map2.split_map(left_layer, right_layer)\n",
    "\n",
    "#Add a legend.\n",
    "legend_keys = ['Snow', 'Clouds']\n",
    "legend_colors = ['#0000FF', '#FF0000']\n",
    "\n",
    "Map2.add_legend(legend_keys=legend_keys, legend_colors=legend_colors, position='bottomright')\n",
    "\n",
    "Map2"
   ]
  },
  {
   "cell_type": "code",
   "execution_count": null,
   "metadata": {},
   "outputs": [],
   "source": []
  }
 ],
 "metadata": {
  "kernelspec": {
   "display_name": "Python 3",
   "language": "python",
   "name": "python3"
  },
  "language_info": {
   "codemirror_mode": {
    "name": "ipython",
    "version": 3
   },
   "file_extension": ".py",
   "mimetype": "text/x-python",
   "name": "python",
   "nbconvert_exporter": "python",
   "pygments_lexer": "ipython3",
   "version": "3.7.6"
  }
 },
 "nbformat": 4,
 "nbformat_minor": 4
}
